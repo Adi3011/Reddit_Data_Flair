{
 "cells": [
  {
   "cell_type": "code",
   "execution_count": 9,
   "metadata": {},
   "outputs": [],
   "source": [
    "import pandas as pd\n",
    "import numpy as np\n",
    "reddit_data = pd.read_csv('Final_formatted_data.csv')\n",
    "reddit_data.head()\n",
    "flairs = [\"AskIndia\", \"Non-Political\", \"[R]eddiquette\", \"Scheduled\", \"Photography\", \"Science/Technology\", \"Politics\", \"Business/Finance\", \"Policy/Economy\", \"Sports\", \"Food\", \"AMA\"]"
   ]
  },
  {
   "cell_type": "code",
   "execution_count": 10,
   "metadata": {},
   "outputs": [
    {
     "data": {
      "text/html": [
       "<div>\n",
       "<style scoped>\n",
       "    .dataframe tbody tr th:only-of-type {\n",
       "        vertical-align: middle;\n",
       "    }\n",
       "\n",
       "    .dataframe tbody tr th {\n",
       "        vertical-align: top;\n",
       "    }\n",
       "\n",
       "    .dataframe thead th {\n",
       "        text-align: right;\n",
       "    }\n",
       "</style>\n",
       "<table border=\"1\" class=\"dataframe\">\n",
       "  <thead>\n",
       "    <tr style=\"text-align: right;\">\n",
       "      <th></th>\n",
       "      <th>title</th>\n",
       "      <th>id</th>\n",
       "      <th>flair</th>\n",
       "      <th>author</th>\n",
       "      <th>url</th>\n",
       "      <th>num_comments</th>\n",
       "      <th>score</th>\n",
       "      <th>created</th>\n",
       "    </tr>\n",
       "  </thead>\n",
       "  <tbody>\n",
       "    <tr>\n",
       "      <th>0</th>\n",
       "      <td>hi  im anish majumdar  author of the isolation...</td>\n",
       "      <td>2059oa</td>\n",
       "      <td>AMA</td>\n",
       "      <td>anish_majumdar</td>\n",
       "      <td>https://www.reddit.com/r/india/comments/2059oa...</td>\n",
       "      <td>36</td>\n",
       "      <td>67</td>\n",
       "      <td>2014-03-11 15:53:58</td>\n",
       "    </tr>\n",
       "    <tr>\n",
       "      <th>1</th>\n",
       "      <td>np i am a dentist ama</td>\n",
       "      <td>4giohy</td>\n",
       "      <td>AMA</td>\n",
       "      <td>periomate</td>\n",
       "      <td>https://www.reddit.com/r/india/comments/4giohy...</td>\n",
       "      <td>297</td>\n",
       "      <td>95</td>\n",
       "      <td>2016-04-26 12:58:58</td>\n",
       "    </tr>\n",
       "    <tr>\n",
       "      <th>2</th>\n",
       "      <td>hi reddit  im siddharth agarwal  im currently ...</td>\n",
       "      <td>4saxeh</td>\n",
       "      <td>AMA</td>\n",
       "      <td>iamasid</td>\n",
       "      <td>https://www.reddit.com/r/india/comments/4saxeh...</td>\n",
       "      <td>147</td>\n",
       "      <td>340</td>\n",
       "      <td>2016-07-11 13:32:51</td>\n",
       "    </tr>\n",
       "    <tr>\n",
       "      <th>3</th>\n",
       "      <td>ama hi r india im a ca and would love to answe...</td>\n",
       "      <td>5tcgn5</td>\n",
       "      <td>AMA</td>\n",
       "      <td>cap_nemo_1984</td>\n",
       "      <td>https://www.reddit.com/r/india/comments/5tcgn5...</td>\n",
       "      <td>206</td>\n",
       "      <td>77</td>\n",
       "      <td>2017-02-11 05:43:55</td>\n",
       "    </tr>\n",
       "    <tr>\n",
       "      <th>4</th>\n",
       "      <td>hey reddit i am sandeep goenka  cofounder of z...</td>\n",
       "      <td>5e3mni</td>\n",
       "      <td>AMA</td>\n",
       "      <td>goenkasandeep</td>\n",
       "      <td>https://www.reddit.com/r/india/comments/5e3mni...</td>\n",
       "      <td>218</td>\n",
       "      <td>100</td>\n",
       "      <td>2016-11-21 11:44:31</td>\n",
       "    </tr>\n",
       "  </tbody>\n",
       "</table>\n",
       "</div>"
      ],
      "text/plain": [
       "                                               title      id flair  \\\n",
       "0  hi  im anish majumdar  author of the isolation...  2059oa   AMA   \n",
       "1                              np i am a dentist ama  4giohy   AMA   \n",
       "2  hi reddit  im siddharth agarwal  im currently ...  4saxeh   AMA   \n",
       "3  ama hi r india im a ca and would love to answe...  5tcgn5   AMA   \n",
       "4  hey reddit i am sandeep goenka  cofounder of z...  5e3mni   AMA   \n",
       "\n",
       "           author                                                url  \\\n",
       "0  anish_majumdar  https://www.reddit.com/r/india/comments/2059oa...   \n",
       "1       periomate  https://www.reddit.com/r/india/comments/4giohy...   \n",
       "2         iamasid  https://www.reddit.com/r/india/comments/4saxeh...   \n",
       "3   cap_nemo_1984  https://www.reddit.com/r/india/comments/5tcgn5...   \n",
       "4   goenkasandeep  https://www.reddit.com/r/india/comments/5e3mni...   \n",
       "\n",
       "   num_comments  score              created  \n",
       "0            36     67  2014-03-11 15:53:58  \n",
       "1           297     95  2016-04-26 12:58:58  \n",
       "2           147    340  2016-07-11 13:32:51  \n",
       "3           206     77  2017-02-11 05:43:55  \n",
       "4           218    100  2016-11-21 11:44:31  "
      ]
     },
     "execution_count": 10,
     "metadata": {},
     "output_type": "execute_result"
    }
   ],
   "source": [
    "reddit_data.head()"
   ]
  },
  {
   "cell_type": "markdown",
   "metadata": {},
   "source": [
    "# Importing varied Scikit-learn ML models"
   ]
  },
  {
   "cell_type": "code",
   "execution_count": 11,
   "metadata": {},
   "outputs": [],
   "source": [
    "from sklearn.model_selection import train_test_split\n",
    "from sklearn.feature_extraction.text import CountVectorizer, TfidfVectorizer\n",
    "from sklearn.metrics import accuracy_score, confusion_matrix\n",
    "from sklearn.pipeline import Pipeline\n",
    "from sklearn.feature_extraction.text import TfidfTransformer\n",
    "from sklearn.metrics import classification_report\n",
    "from sklearn.naive_bayes import MultinomialNB\n",
    "from sklearn.linear_model import SGDClassifier\n",
    "from sklearn.linear_model import LogisticRegression\n",
    "from sklearn.ensemble import RandomForestClassifier"
   ]
  },
  {
   "cell_type": "markdown",
   "metadata": {},
   "source": [
    "# Functions for various models."
   ]
  },
  {
   "cell_type": "code",
   "execution_count": 12,
   "metadata": {},
   "outputs": [],
   "source": [
    "# Naive Bayse Classifier\n",
    "def naiveBayse(X_train, X_test, y_train, y_test):\n",
    "    nb = Pipeline([('vect', CountVectorizer(max_features = 1000)),\n",
    "               ('tfidf', TfidfTransformer()),\n",
    "               ('clf', MultinomialNB()),\n",
    "              ])\n",
    "\n",
    "    nb.fit(X_train, y_train)\n",
    "    y_pred = nb.predict(X_test)\n",
    "    print(f\"NB Accuracy: {accuracy_score(y_pred, y_test)}\")"
   ]
  },
  {
   "cell_type": "code",
   "execution_count": 13,
   "metadata": {},
   "outputs": [],
   "source": [
    "#Logistic Regression\n",
    "def logReg(X_train, X_test, y_train, y_test):\n",
    "    logreg = Pipeline([('vect', CountVectorizer(max_features = 1000)),\n",
    "                ('tfidf', TfidfTransformer()),\n",
    "                ('clf', LogisticRegression(n_jobs=1, C=1e5)),\n",
    "               ])\n",
    "    logreg.fit(X_train, y_train)\n",
    "    y_pred = logreg.predict(X_test)\n",
    "    print(f\"Logistic Regression Accuracy: {accuracy_score(y_pred, y_test)}\")"
   ]
  },
  {
   "cell_type": "code",
   "execution_count": 14,
   "metadata": {},
   "outputs": [],
   "source": [
    "#Linear Support Vector Machine \n",
    "def svmLinear(X_train, X_test, y_train, y_test):\n",
    "    sgd = Pipeline([('vect', CountVectorizer(max_features = 1000)),\n",
    "                ('tfidf', TfidfTransformer()),\n",
    "                ('clf', SGDClassifier(loss='hinge', penalty='l2',alpha=1e-3, random_state=42, max_iter=100, tol=None)),\n",
    "               ])\n",
    "    sgd.fit(X_train, y_train)\n",
    "    y_pred = sgd.predict(X_test)\n",
    "    print(f\"Linear SVM Accuracy: {accuracy_score(y_pred, y_test)}\")"
   ]
  },
  {
   "cell_type": "code",
   "execution_count": 15,
   "metadata": {},
   "outputs": [],
   "source": [
    "#Random Forest\n",
    "def randomForest(X_train, X_test, y_train, y_test):\n",
    "    rf = Pipeline([('vect', CountVectorizer(max_features=1000)),\n",
    "                   ('tfidf', TfidfTransformer()),\n",
    "                   ('clf', RandomForestClassifier(n_estimators = 500, random_state = 42)),\n",
    "                  ])\n",
    "    rf.fit(X_train, y_train)\n",
    "    y_pred = rf.predict(X_test)\n",
    "    print(f\"Random Forest accuracy: {accuracy_score(y_pred, y_test)}\")"
   ]
  },
  {
   "cell_type": "markdown",
   "metadata": {},
   "source": [
    "# Training, Testing and Printing Accuracy for each model."
   ]
  },
  {
   "cell_type": "code",
   "execution_count": 16,
   "metadata": {},
   "outputs": [],
   "source": [
    "y = reddit_data['flair'] #Independent variable\n",
    "def train_test(X):\n",
    "    X_train, X_test, y_train, y_test = train_test_split(X, y,test_size=0.3,random_state = 42)\n",
    "    naiveBayse(X_train, X_test, y_train, y_test)\n",
    "    logReg(X_train, X_test, y_train, y_test)\n",
    "    svmLinear(X_train, X_test, y_train, y_test)\n",
    "    randomForest(X_train, X_test, y_train, y_test)"
   ]
  },
  {
   "cell_type": "markdown",
   "metadata": {},
   "source": [
    "# Changing value of Dependent variable and calling train_test() "
   ]
  },
  {
   "cell_type": "code",
   "execution_count": 20,
   "metadata": {},
   "outputs": [
    {
     "name": "stdout",
     "output_type": "stream",
     "text": [
      "Flair detection accuracy using TITLE as feature\n",
      "\n",
      "NB Accuracy: 0.5312131919905771\n"
     ]
    },
    {
     "name": "stderr",
     "output_type": "stream",
     "text": [
      "c:\\users\\aditya kumar\\appdata\\local\\programs\\python\\python37-32\\lib\\site-packages\\sklearn\\linear_model\\_logistic.py:765: ConvergenceWarning: lbfgs failed to converge (status=1):\n",
      "STOP: TOTAL NO. of ITERATIONS REACHED LIMIT.\n",
      "\n",
      "Increase the number of iterations (max_iter) or scale the data as shown in:\n",
      "    https://scikit-learn.org/stable/modules/preprocessing.html\n",
      "Please also refer to the documentation for alternative solver options:\n",
      "    https://scikit-learn.org/stable/modules/linear_model.html#logistic-regression\n",
      "  extra_warning_msg=_LOGISTIC_SOLVER_CONVERGENCE_MSG)\n"
     ]
    },
    {
     "name": "stdout",
     "output_type": "stream",
     "text": [
      "Logistic Regression Accuracy: 0.46878680800942285\n",
      "Linear SVM Accuracy: 0.5229681978798587\n",
      "Random Forest accuracy: 0.49705535924617195\n",
      "Flair detection accuracy using TITLE+author as feature\n",
      "\n",
      "NB Accuracy: 0.49469964664310956\n"
     ]
    },
    {
     "name": "stderr",
     "output_type": "stream",
     "text": [
      "c:\\users\\aditya kumar\\appdata\\local\\programs\\python\\python37-32\\lib\\site-packages\\sklearn\\linear_model\\_logistic.py:765: ConvergenceWarning: lbfgs failed to converge (status=1):\n",
      "STOP: TOTAL NO. of ITERATIONS REACHED LIMIT.\n",
      "\n",
      "Increase the number of iterations (max_iter) or scale the data as shown in:\n",
      "    https://scikit-learn.org/stable/modules/preprocessing.html\n",
      "Please also refer to the documentation for alternative solver options:\n",
      "    https://scikit-learn.org/stable/modules/linear_model.html#logistic-regression\n",
      "  extra_warning_msg=_LOGISTIC_SOLVER_CONVERGENCE_MSG)\n"
     ]
    },
    {
     "name": "stdout",
     "output_type": "stream",
     "text": [
      "Logistic Regression Accuracy: 0.44876325088339225\n",
      "Linear SVM Accuracy: 0.5005889281507656\n",
      "Random Forest accuracy: 0.4746760895170789\n",
      "Flair detection accuracy using URL as feature\n",
      "\n",
      "NB Accuracy: 0.3510011778563015\n"
     ]
    },
    {
     "name": "stderr",
     "output_type": "stream",
     "text": [
      "c:\\users\\aditya kumar\\appdata\\local\\programs\\python\\python37-32\\lib\\site-packages\\sklearn\\linear_model\\_logistic.py:765: ConvergenceWarning: lbfgs failed to converge (status=1):\n",
      "STOP: TOTAL NO. of ITERATIONS REACHED LIMIT.\n",
      "\n",
      "Increase the number of iterations (max_iter) or scale the data as shown in:\n",
      "    https://scikit-learn.org/stable/modules/preprocessing.html\n",
      "Please also refer to the documentation for alternative solver options:\n",
      "    https://scikit-learn.org/stable/modules/linear_model.html#logistic-regression\n",
      "  extra_warning_msg=_LOGISTIC_SOLVER_CONVERGENCE_MSG)\n"
     ]
    },
    {
     "name": "stdout",
     "output_type": "stream",
     "text": [
      "Logistic Regression Accuracy: 0.35335689045936397\n",
      "Linear SVM Accuracy: 0.25677267373380447\n",
      "Random Forest accuracy: 0.3486454652532391\n",
      "Flair detection accuracy using URL+author as feature\n",
      "\n",
      "NB Accuracy: 0.38044758539458184\n"
     ]
    },
    {
     "name": "stderr",
     "output_type": "stream",
     "text": [
      "c:\\users\\aditya kumar\\appdata\\local\\programs\\python\\python37-32\\lib\\site-packages\\sklearn\\linear_model\\_logistic.py:765: ConvergenceWarning: lbfgs failed to converge (status=1):\n",
      "STOP: TOTAL NO. of ITERATIONS REACHED LIMIT.\n",
      "\n",
      "Increase the number of iterations (max_iter) or scale the data as shown in:\n",
      "    https://scikit-learn.org/stable/modules/preprocessing.html\n",
      "Please also refer to the documentation for alternative solver options:\n",
      "    https://scikit-learn.org/stable/modules/linear_model.html#logistic-regression\n",
      "  extra_warning_msg=_LOGISTIC_SOLVER_CONVERGENCE_MSG)\n"
     ]
    },
    {
     "name": "stdout",
     "output_type": "stream",
     "text": [
      "Logistic Regression Accuracy: 0.37809187279151946\n",
      "Linear SVM Accuracy: 0.41813898704358066\n",
      "Random Forest accuracy: 0.38633686690223795\n",
      "Flair detection accuracy using Features Group(title + author+url) as feature\n",
      "\n",
      "NB Accuracy: 0.5465253239104829\n"
     ]
    },
    {
     "name": "stderr",
     "output_type": "stream",
     "text": [
      "c:\\users\\aditya kumar\\appdata\\local\\programs\\python\\python37-32\\lib\\site-packages\\sklearn\\linear_model\\_logistic.py:765: ConvergenceWarning: lbfgs failed to converge (status=1):\n",
      "STOP: TOTAL NO. of ITERATIONS REACHED LIMIT.\n",
      "\n",
      "Increase the number of iterations (max_iter) or scale the data as shown in:\n",
      "    https://scikit-learn.org/stable/modules/preprocessing.html\n",
      "Please also refer to the documentation for alternative solver options:\n",
      "    https://scikit-learn.org/stable/modules/linear_model.html#logistic-regression\n",
      "  extra_warning_msg=_LOGISTIC_SOLVER_CONVERGENCE_MSG)\n"
     ]
    },
    {
     "name": "stdout",
     "output_type": "stream",
     "text": [
      "Logistic Regression Accuracy: 0.48645465253239106\n",
      "Linear SVM Accuracy: 0.5441696113074205\n",
      "Random Forest accuracy: 0.4793875147232038\n",
      "Flair detection accuracy using Features Group(url+num_comments) as feature\n",
      "\n",
      "NB Accuracy: 0.5477031802120141\n"
     ]
    },
    {
     "name": "stderr",
     "output_type": "stream",
     "text": [
      "c:\\users\\aditya kumar\\appdata\\local\\programs\\python\\python37-32\\lib\\site-packages\\sklearn\\linear_model\\_logistic.py:765: ConvergenceWarning: lbfgs failed to converge (status=1):\n",
      "STOP: TOTAL NO. of ITERATIONS REACHED LIMIT.\n",
      "\n",
      "Increase the number of iterations (max_iter) or scale the data as shown in:\n",
      "    https://scikit-learn.org/stable/modules/preprocessing.html\n",
      "Please also refer to the documentation for alternative solver options:\n",
      "    https://scikit-learn.org/stable/modules/linear_model.html#logistic-regression\n",
      "  extra_warning_msg=_LOGISTIC_SOLVER_CONVERGENCE_MSG)\n"
     ]
    },
    {
     "name": "stdout",
     "output_type": "stream",
     "text": [
      "Logistic Regression Accuracy: 0.48881036513545345\n",
      "Linear SVM Accuracy: 0.5453474676089517\n",
      "Random Forest accuracy: 0.48527679623085984\n"
     ]
    }
   ],
   "source": [
    "print(\"Flair detection accuracy using TITLE as feature\\n\")\n",
    "train_test(reddit_data['title'])\n",
    "\n",
    "print(\"Flair detection accuracy using TITLE+author as feature\\n\")\n",
    "train_test(reddit_data['title']+reddit_data['author'])\n",
    "print(\"Flair detection accuracy using URL as feature\\n\")\n",
    "train_test(reddit_data['url'])\n",
    "print(\"Flair detection accuracy using URL+author as feature\\n\")\n",
    "train_test(reddit_data['url']+reddit_data['author'])\n",
    "print(\"Flair detection accuracy using Features Group(title + author+url) as feature\\n\")\n",
    "train_test(reddit_data['title']+reddit_data['author']+reddit_data['url'])\n",
    "\n",
    "print(\"Flair detection accuracy using Features Group(url+num_comments) as feature\\n\")\n",
    "train_test(reddit_data['title']+reddit_data['url'])"
   ]
  },
  {
   "cell_type": "markdown",
   "metadata": {},
   "source": [
    "# Grouped Features using Linear SVM Model provides most accuracy. "
   ]
  },
  {
   "cell_type": "code",
   "execution_count": 21,
   "metadata": {},
   "outputs": [],
   "source": [
    "#Linear SVM Accuracy: 0.5333333333333333"
   ]
  },
  {
   "cell_type": "markdown",
   "metadata": {},
   "source": [
    "# Saving model using Pickle library "
   ]
  },
  {
   "cell_type": "code",
   "execution_count": 25,
   "metadata": {},
   "outputs": [],
   "source": [
    "import pickle\n",
    "X = reddit_data['url']+reddit_data['title']\n",
    "X_train, X_test, y_train, y_test = train_test_split(X, y,test_size=0.1,random_state = 42)\n",
    "nb = Pipeline([('vect', CountVectorizer(max_features = 1000)),\n",
    "               ('tfidf', TfidfTransformer()),\n",
    "               ('clf', MultinomialNB()),\n",
    "              ])\n",
    "nb.fit(X_train, y_train)\n",
    "y_pred = nb.predict(X_test)\n",
    "pickle.dump(nb.fit(X_train, y_train), open(\"model_linear_svm.sav\", 'wb'))"
   ]
  },
  {
   "cell_type": "code",
   "execution_count": 26,
   "metadata": {},
   "outputs": [
    {
     "data": {
      "text/plain": [
       "0.5653710247349824"
      ]
     },
     "execution_count": 26,
     "metadata": {},
     "output_type": "execute_result"
    }
   ],
   "source": [
    "accuracy_score(y_pred, y_test)"
   ]
  },
  {
   "cell_type": "code",
   "execution_count": null,
   "metadata": {},
   "outputs": [],
   "source": []
  },
  {
   "cell_type": "code",
   "execution_count": null,
   "metadata": {},
   "outputs": [],
   "source": []
  }
 ],
 "metadata": {
  "kernelspec": {
   "display_name": "Python 3",
   "language": "python",
   "name": "python3"
  },
  "language_info": {
   "codemirror_mode": {
    "name": "ipython",
    "version": 3
   },
   "file_extension": ".py",
   "mimetype": "text/x-python",
   "name": "python",
   "nbconvert_exporter": "python",
   "pygments_lexer": "ipython3",
   "version": "3.7.8"
  }
 },
 "nbformat": 4,
 "nbformat_minor": 2
}
