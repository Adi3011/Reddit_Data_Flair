{
 "cells": [
  {
   "cell_type": "markdown",
   "metadata": {},
   "source": [
    "# Performing Data analysis on data using Pandas and Numpy to present various statistics"
   ]
  },
  {
   "cell_type": "code",
   "execution_count": 1,
   "metadata": {},
   "outputs": [
    {
     "data": {
      "text/html": [
       "<div>\n",
       "<style scoped>\n",
       "    .dataframe tbody tr th:only-of-type {\n",
       "        vertical-align: middle;\n",
       "    }\n",
       "\n",
       "    .dataframe tbody tr th {\n",
       "        vertical-align: top;\n",
       "    }\n",
       "\n",
       "    .dataframe thead th {\n",
       "        text-align: right;\n",
       "    }\n",
       "</style>\n",
       "<table border=\"1\" class=\"dataframe\">\n",
       "  <thead>\n",
       "    <tr style=\"text-align: right;\">\n",
       "      <th></th>\n",
       "      <th>title</th>\n",
       "      <th>id</th>\n",
       "      <th>flair</th>\n",
       "      <th>author</th>\n",
       "      <th>url</th>\n",
       "      <th>num_comments</th>\n",
       "      <th>score</th>\n",
       "      <th>timestamp</th>\n",
       "      <th>feature_Grp</th>\n",
       "    </tr>\n",
       "  </thead>\n",
       "  <tbody>\n",
       "    <tr>\n",
       "      <th>0</th>\n",
       "      <td>i am a lesser known indian author my 2nd book ...</td>\n",
       "      <td>5unqxo</td>\n",
       "      <td>AMA</td>\n",
       "      <td>legalindia</td>\n",
       "      <td>https://www.reddit.com/r/india/comments/5unqxo...</td>\n",
       "      <td>145</td>\n",
       "      <td>93</td>\n",
       "      <td>2017-02-17 18:27:13</td>\n",
       "      <td>i am a lesser known indian author my 2nd book ...</td>\n",
       "    </tr>\n",
       "    <tr>\n",
       "      <th>1</th>\n",
       "      <td>i am sanjeev sabhlok  joined ias in 1982 and r...</td>\n",
       "      <td>9mxy2y</td>\n",
       "      <td>AMA</td>\n",
       "      <td>sabhlok</td>\n",
       "      <td>https://www.reddit.com/r/india/comments/9mxy2y...</td>\n",
       "      <td>304</td>\n",
       "      <td>187</td>\n",
       "      <td>2018-10-10 09:30:47</td>\n",
       "      <td>i am sanjeev sabhlok  joined ias in 1982 and r...</td>\n",
       "    </tr>\n",
       "    <tr>\n",
       "      <th>2</th>\n",
       "      <td>hey  reddit india we are the founding editors ...</td>\n",
       "      <td>8idukp</td>\n",
       "      <td>AMA</td>\n",
       "      <td>thewire_in</td>\n",
       "      <td>https://www.reddit.com/r/india/comments/8idukp...</td>\n",
       "      <td>293</td>\n",
       "      <td>418</td>\n",
       "      <td>2018-05-10 10:26:40</td>\n",
       "      <td>hey  reddit india we are the founding editors ...</td>\n",
       "    </tr>\n",
       "    <tr>\n",
       "      <th>3</th>\n",
       "      <td>hi im shashi tharoor ask me anything on india ...</td>\n",
       "      <td>626l9b</td>\n",
       "      <td>AMA</td>\n",
       "      <td>shashitharoor2017</td>\n",
       "      <td>https://www.reddit.com/r/india/comments/626l9b...</td>\n",
       "      <td>496</td>\n",
       "      <td>1602</td>\n",
       "      <td>2017-03-29 13:25:30</td>\n",
       "      <td>hi im shashi tharoor ask me anything on india ...</td>\n",
       "    </tr>\n",
       "  </tbody>\n",
       "</table>\n",
       "</div>"
      ],
      "text/plain": [
       "                                               title      id flair  \\\n",
       "0  i am a lesser known indian author my 2nd book ...  5unqxo   AMA   \n",
       "1  i am sanjeev sabhlok  joined ias in 1982 and r...  9mxy2y   AMA   \n",
       "2  hey  reddit india we are the founding editors ...  8idukp   AMA   \n",
       "3  hi im shashi tharoor ask me anything on india ...  626l9b   AMA   \n",
       "\n",
       "              author                                                url  \\\n",
       "0         legalindia  https://www.reddit.com/r/india/comments/5unqxo...   \n",
       "1            sabhlok  https://www.reddit.com/r/india/comments/9mxy2y...   \n",
       "2         thewire_in  https://www.reddit.com/r/india/comments/8idukp...   \n",
       "3  shashitharoor2017  https://www.reddit.com/r/india/comments/626l9b...   \n",
       "\n",
       "   num_comments  score            timestamp  \\\n",
       "0           145     93  2017-02-17 18:27:13   \n",
       "1           304    187  2018-10-10 09:30:47   \n",
       "2           293    418  2018-05-10 10:26:40   \n",
       "3           496   1602  2017-03-29 13:25:30   \n",
       "\n",
       "                                         feature_Grp  \n",
       "0  i am a lesser known indian author my 2nd book ...  \n",
       "1  i am sanjeev sabhlok  joined ias in 1982 and r...  \n",
       "2  hey  reddit india we are the founding editors ...  \n",
       "3  hi im shashi tharoor ask me anything on india ...  "
      ]
     },
     "execution_count": 1,
     "metadata": {},
     "output_type": "execute_result"
    }
   ],
   "source": [
    "import matplotlib.pyplot as plt\n",
    "from collections import Counter\n",
    "import pandas as pd\n",
    "import numpy as np\n",
    "import seaborn as sns\n",
    "#using inline to Graphs as Cell outputs.\n",
    "%matplotlib inline\n",
    "reddit_data = pd.read_csv('../data/Final_formatted_data.csv')\n",
    "reddit_data.head(4)"
   ]
  },
  {
   "cell_type": "code",
   "execution_count": 2,
   "metadata": {},
   "outputs": [
    {
     "data": {
      "text/plain": [
       "array(['AMA', 'AskIndia', 'Business/Finance', 'Food', 'Non-Political',\n",
       "       'Photography', 'Policy/Economy', 'Politics', 'Reddit Talk AMA',\n",
       "       'Scheduled', 'Science/Technology', 'Sports', '[R]eddiquette'],\n",
       "      dtype=object)"
      ]
     },
     "execution_count": 2,
     "metadata": {},
     "output_type": "execute_result"
    }
   ],
   "source": [
    "reddit_data['flair'].unique()"
   ]
  },
  {
   "cell_type": "code",
   "execution_count": 3,
   "metadata": {},
   "outputs": [],
   "source": [
    "#  Initializing all flairs for easy detection in database. \n",
    "flairs = ['AMA', 'AskIndia', 'Business/Finance', 'Food', 'Non-Political',\n",
    "       'Photography', 'Policy/Economy', 'Politics', 'Scheduled',\n",
    "       'Science/Technology', 'Sports', '[R]eddiquette']"
   ]
  },
  {
   "cell_type": "code",
   "execution_count": 4,
   "metadata": {},
   "outputs": [
    {
     "data": {
      "text/plain": [
       "822"
      ]
     },
     "execution_count": 4,
     "metadata": {},
     "output_type": "execute_result"
    }
   ],
   "source": [
    "len(reddit_data['author'].unique())"
   ]
  },
  {
   "cell_type": "markdown",
   "metadata": {},
   "source": [
    "# Counting number of unique authors out of 1200+ posts in database"
   ]
  },
  {
   "cell_type": "code",
   "execution_count": 5,
   "metadata": {
    "scrolled": true
   },
   "outputs": [
    {
     "name": "stdout",
     "output_type": "stream",
     "text": [
      "No. of unique authors out of all collected posts(~1200):  822\n"
     ]
    }
   ],
   "source": [
    "unique_users = set(reddit_data['author'])\n",
    "count_unique_user = len(unique_users)\n",
    "print(\"No. of unique authors out of all collected posts(~1200): \", count_unique_user)"
   ]
  },
  {
   "cell_type": "markdown",
   "metadata": {},
   "source": [
    "# Categorical scatterplot: Scores gathered by respective flairs"
   ]
  },
  {
   "cell_type": "code",
   "execution_count": 6,
   "metadata": {},
   "outputs": [
    {
     "data": {
      "image/png": "[encoded data removed]",
      "text/plain": [
       "<Figure size 432x288 with 1 Axes>"
      ]
     },
     "metadata": {},
     "output_type": "display_data"
    }
   ],
   "source": [
    "sns.set(style=\"ticks\", color_codes=True)\n",
    "scores = sns.barplot(x=\"flair\", y=\"score\", data=reddit_data);\n",
    "for label in scores.get_xticklabels():\n",
    "        label.set_rotation(90)"
   ]
  },
  {
   "cell_type": "markdown",
   "metadata": {},
   "source": [
    "# Categorical scatterplot: No. of comments gathered by respective flairs"
   ]
  },
  {
   "cell_type": "code",
   "execution_count": 7,
   "metadata": {},
   "outputs": [
    {
     "data": {
      "image/png": "[encoded data removed]",
      "text/plain": [
       "<Figure size 432x288 with 1 Axes>"
      ]
     },
     "metadata": {},
     "output_type": "display_data"
    }
   ],
   "source": [
    "comments = sns.barplot(x=\"flair\", y=\"num_comments\", palette=\"ch:.25\", data=reddit_data);\n",
    "for label in comments.get_xticklabels():\n",
    "        label.set_rotation(90)"
   ]
  },
  {
   "cell_type": "code",
   "execution_count": 8,
   "metadata": {},
   "outputs": [
    {
     "data": {
      "text/plain": [
       "title           0\n",
       "id              0\n",
       "flair           0\n",
       "author          0\n",
       "url             0\n",
       "num_comments    0\n",
       "score           0\n",
       "timestamp       0\n",
       "feature_Grp     0\n",
       "dtype: int64"
      ]
     },
     "execution_count": 8,
     "metadata": {},
     "output_type": "execute_result"
    }
   ],
   "source": [
    "reddit_data.isnull().sum()"
   ]
  },
  {
   "cell_type": "code",
   "execution_count": null,
   "metadata": {},
   "outputs": [],
   "source": []
  }
 ],
 "metadata": {
  "kernelspec": {
   "display_name": "Python 3",
   "language": "python",
   "name": "python3"
  },
  "language_info": {
   "codemirror_mode": {
    "name": "ipython",
    "version": 3
   },
   "file_extension": ".py",
   "mimetype": "text/x-python",
   "name": "python",
   "nbconvert_exporter": "python",
   "pygments_lexer": "ipython3",
   "version": "3.7.8"
  }
 },
 "nbformat": 4,
 "nbformat_minor": 2
}
