{
 "cells": [
  {
   "cell_type": "markdown",
   "metadata": {},
   "source": [
    "# Performing Data analysis on data using Pandas and Numpy to present various statistics"
   ]
  },
  {
   "cell_type": "code",
   "execution_count": 4,
   "metadata": {},
   "outputs": [
    {
     "data": {
      "text/html": [
       "<div>\n",
       "<style scoped>\n",
       "    .dataframe tbody tr th:only-of-type {\n",
       "        vertical-align: middle;\n",
       "    }\n",
       "\n",
       "    .dataframe tbody tr th {\n",
       "        vertical-align: top;\n",
       "    }\n",
       "\n",
       "    .dataframe thead th {\n",
       "        text-align: right;\n",
       "    }\n",
       "</style>\n",
       "<table border=\"1\" class=\"dataframe\">\n",
       "  <thead>\n",
       "    <tr style=\"text-align: right;\">\n",
       "      <th></th>\n",
       "      <th>title</th>\n",
       "      <th>id</th>\n",
       "      <th>flair</th>\n",
       "      <th>author</th>\n",
       "      <th>url</th>\n",
       "      <th>num_comments</th>\n",
       "      <th>score</th>\n",
       "      <th>timestamp</th>\n",
       "      <th>feature_Grp</th>\n",
       "    </tr>\n",
       "  </thead>\n",
       "  <tbody>\n",
       "    <tr>\n",
       "      <th>0</th>\n",
       "      <td>hi r india past members team built swayam one ...</td>\n",
       "      <td>4q3km4</td>\n",
       "      <td>AMA</td>\n",
       "      <td>originofspices</td>\n",
       "      <td>https://www.reddit.com/r/india/comments/4q3km4...</td>\n",
       "      <td>90</td>\n",
       "      <td>223</td>\n",
       "      <td>27/06/16 22:24</td>\n",
       "      <td>hi r india past members team built swayam one ...</td>\n",
       "    </tr>\n",
       "    <tr>\n",
       "      <th>1</th>\n",
       "      <td>hello reddit im aakash mehta aka kuchbhimehta ...</td>\n",
       "      <td>852xds</td>\n",
       "      <td>AMA</td>\n",
       "      <td>thekuchbhimehta</td>\n",
       "      <td>https://www.reddit.com/r/india/comments/852xds...</td>\n",
       "      <td>103</td>\n",
       "      <td>69</td>\n",
       "      <td>17/03/18 18:21</td>\n",
       "      <td>hello reddit im aakash mehta aka kuchbhimehta ...</td>\n",
       "    </tr>\n",
       "    <tr>\n",
       "      <th>2</th>\n",
       "      <td>lets slay misandry hi guys amit deshpande mens...</td>\n",
       "      <td>7dcctp</td>\n",
       "      <td>AMA</td>\n",
       "      <td>antidespondent</td>\n",
       "      <td>https://www.reddit.com/r/india/comments/7dcctp...</td>\n",
       "      <td>311</td>\n",
       "      <td>138</td>\n",
       "      <td>16/11/17 21:24</td>\n",
       "      <td>lets slay misandry hi guys amit deshpande mens...</td>\n",
       "    </tr>\n",
       "    <tr>\n",
       "      <th>3</th>\n",
       "      <td>hi im jairaj devadiga economist columnist foun...</td>\n",
       "      <td>7oyscz</td>\n",
       "      <td>AMA</td>\n",
       "      <td>JairajDevadiga</td>\n",
       "      <td>https://www.reddit.com/r/india/comments/7oyscz...</td>\n",
       "      <td>176</td>\n",
       "      <td>118</td>\n",
       "      <td>08/01/18 22:20</td>\n",
       "      <td>hi im jairaj devadiga economist columnist foun...</td>\n",
       "    </tr>\n",
       "  </tbody>\n",
       "</table>\n",
       "</div>"
      ],
      "text/plain": [
       "                                               title      id flair  \\\n",
       "0  hi r india past members team built swayam one ...  4q3km4   AMA   \n",
       "1  hello reddit im aakash mehta aka kuchbhimehta ...  852xds   AMA   \n",
       "2  lets slay misandry hi guys amit deshpande mens...  7dcctp   AMA   \n",
       "3  hi im jairaj devadiga economist columnist foun...  7oyscz   AMA   \n",
       "\n",
       "            author                                                url  \\\n",
       "0   originofspices  https://www.reddit.com/r/india/comments/4q3km4...   \n",
       "1  thekuchbhimehta  https://www.reddit.com/r/india/comments/852xds...   \n",
       "2   antidespondent  https://www.reddit.com/r/india/comments/7dcctp...   \n",
       "3   JairajDevadiga  https://www.reddit.com/r/india/comments/7oyscz...   \n",
       "\n",
       "   num_comments  score       timestamp  \\\n",
       "0            90    223  27/06/16 22:24   \n",
       "1           103     69  17/03/18 18:21   \n",
       "2           311    138  16/11/17 21:24   \n",
       "3           176    118  08/01/18 22:20   \n",
       "\n",
       "                                         feature_Grp  \n",
       "0  hi r india past members team built swayam one ...  \n",
       "1  hello reddit im aakash mehta aka kuchbhimehta ...  \n",
       "2  lets slay misandry hi guys amit deshpande mens...  \n",
       "3  hi im jairaj devadiga economist columnist foun...  "
      ]
     },
     "execution_count": 4,
     "metadata": {},
     "output_type": "execute_result"
    }
   ],
   "source": [
    "import matplotlib.pyplot as plt\n",
    "from collections import Counter\n",
    "import pandas as pd\n",
    "import numpy as np\n",
    "import seaborn as sns\n",
    "#using inline to Graphs as Cell outputs.\n",
    "%matplotlib inline\n",
    "reddit_data = pd.read_csv('../data/Final_formatted_data.csv')\n",
    "reddit_data.head(4)"
   ]
  },
  {
   "cell_type": "code",
   "execution_count": 6,
   "metadata": {},
   "outputs": [
    {
     "data": {
      "text/plain": [
       "array(['AMA', 'AskIndia', 'Business/Finance', 'Food', 'Non-Political',\n",
       "       'Photography', 'Policy/Economy', 'Politics', 'Scheduled',\n",
       "       'Science/Technology', 'Sports', '[R]eddiquette'], dtype=object)"
      ]
     },
     "execution_count": 6,
     "metadata": {},
     "output_type": "execute_result"
    }
   ],
   "source": [
    "reddit_data['flair'].unique()"
   ]
  },
  {
   "cell_type": "code",
   "execution_count": 7,
   "metadata": {},
   "outputs": [],
   "source": [
    "#  Initializing all flairs for easy detection in database. \n",
    "flairs = ['AMA', 'AskIndia', 'Business/Finance', 'Food', 'Non-Political',\n",
    "       'Photography', 'Policy/Economy', 'Politics', 'Scheduled',\n",
    "       'Science/Technology', 'Sports', '[R]eddiquette']"
   ]
  },
  {
   "cell_type": "code",
   "execution_count": 14,
   "metadata": {},
   "outputs": [
    {
     "data": {
      "text/plain": [
       "696"
      ]
     },
     "execution_count": 14,
     "metadata": {},
     "output_type": "execute_result"
    }
   ],
   "source": [
    "len(reddit_data['author'].unique())"
   ]
  },
  {
   "cell_type": "markdown",
   "metadata": {},
   "source": [
    "# Counting number of unique authors out of 1200+ posts in database"
   ]
  },
  {
   "cell_type": "code",
   "execution_count": 15,
   "metadata": {
    "scrolled": true
   },
   "outputs": [
    {
     "name": "stdout",
     "output_type": "stream",
     "text": [
      "No. of unique authors out of all collected posts(~1200):  696\n"
     ]
    }
   ],
   "source": [
    "unique_users = set(reddit_data['author'])\n",
    "count_unique_user = len(unique_users)\n",
    "print(\"No. of unique authors out of all collected posts(~1200): \", count_unique_user)"
   ]
  },
  {
   "cell_type": "markdown",
   "metadata": {},
   "source": [
    "# Categorical scatterplot: Scores gathered by respective flairs"
   ]
  },
  {
   "cell_type": "code",
   "execution_count": 16,
   "metadata": {},
   "outputs": [
    {
     "data": {
      "image/png": "[encoded data removed]",
      "text/plain": [
       "<Figure size 432x288 with 1 Axes>"
      ]
     },
     "metadata": {},
     "output_type": "display_data"
    }
   ],
   "source": [
    "sns.set(style=\"ticks\", color_codes=True)\n",
    "scores = sns.barplot(x=\"flair\", y=\"score\", data=reddit_data);\n",
    "for label in scores.get_xticklabels():\n",
    "        label.set_rotation(90)"
   ]
  },
  {
   "cell_type": "markdown",
   "metadata": {},
   "source": [
    "# Categorical scatterplot: No. of comments gathered by respective flairs"
   ]
  },
  {
   "cell_type": "code",
   "execution_count": 17,
   "metadata": {},
   "outputs": [
    {
     "data": {
      "image/png": "[encoded data removed]",
      "text/plain": [
       "<Figure size 432x288 with 1 Axes>"
      ]
     },
     "metadata": {},
     "output_type": "display_data"
    }
   ],
   "source": [
    "comments = sns.barplot(x=\"flair\", y=\"num_comments\", palette=\"ch:.25\", data=reddit_data);\n",
    "for label in comments.get_xticklabels():\n",
    "        label.set_rotation(90)"
   ]
  },
  {
   "cell_type": "code",
   "execution_count": 18,
   "metadata": {},
   "outputs": [
    {
     "data": {
      "text/plain": [
       "title           0\n",
       "id              0\n",
       "flair           0\n",
       "author          0\n",
       "url             0\n",
       "num_comments    0\n",
       "score           0\n",
       "timestamp       0\n",
       "feature_Grp     0\n",
       "dtype: int64"
      ]
     },
     "execution_count": 18,
     "metadata": {},
     "output_type": "execute_result"
    }
   ],
   "source": [
    "reddit_data.isnull().sum()"
   ]
  },
  {
   "cell_type": "code",
   "execution_count": null,
   "metadata": {},
   "outputs": [],
   "source": []
  }
 ],
 "metadata": {
  "kernelspec": {
   "display_name": "Python 3",
   "language": "python",
   "name": "python3"
  },
  "language_info": {
   "codemirror_mode": {
    "name": "ipython",
    "version": 3
   },
   "file_extension": ".py",
   "mimetype": "text/x-python",
   "name": "python",
   "nbconvert_exporter": "python",
   "pygments_lexer": "ipython3",
   "version": "3.7.8"
  }
 },
 "nbformat": 4,
 "nbformat_minor": 2
}
